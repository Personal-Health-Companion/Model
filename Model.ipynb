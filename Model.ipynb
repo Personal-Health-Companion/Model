{
 "cells": [
  {
   "cell_type": "code",
   "execution_count": null,
   "metadata": {},
   "outputs": [],
   "source": [
    "%pip install bardapi\n",
    "import bardapi\n",
    "import os\n",
    "\n",
    "# 사용자로부터 입력 받기\n",
    "age = input(\"나이를 입력하세요: \")\n",
    "Disease1 = input(\"첫 번째 질병을 입력하세요: \")\n",
    "Disease2 = input(\"두 번째 질병을 입력하세요: \")\n",
    "Disease3 = input(\"세 번째 질병을 입력하세요: \")\n",
    "Hobby1 = input(\"첫 번째 취미를 입력하세요: \")\n",
    "Hobby2 = input(\"두 번째 취미를 입력하세요: \")\n",
    "Hobby3 = input(\"세 번째 취미를 입력하세요: \")\n",
    "Medicine = input(\"복용 중인 약을 입력하세요: \")\n",
    "Surgery = input(\"경험이 있는 수술을 입력하세요: \")\n",
    "Location = input(\"거주 지역을 입력하세요: \")\n",
    "\n",
    "# 추가 질문 받기\n",
    "User_input_String = input(\"의료상담을 받고 싶은 내용을 입력하세요: \")\n",
    "\n",
    "# 입력 값을 이용한 문자열 생성\n",
    "input_String = f\"내가 {age}이고 {Disease1},{Disease2},{Disease3}을 앓았던 이력이 있어, 그리고 {Hobby1},{Hobby2},{Hobby3}를 취미로 하고 {User_input_String} 참고로 내가 사는 지역은 {Location}이고 {Medicine}을 복용 중이고 {Surgery} 경력이 있어\"\n",
    "\n",
    "# 바드 대답\n",
    "response = bardapi.core.Bard().get_answer(input_String)\n",
    "print(response)\n",
    "\n",
    "for i, choice in enumerate(response['choices']):\n",
    "    print(f\" Choice {i + 1}:\\n\", choice['content'][0], \"\\n\")\n",
    "\n",
    "print(choice['content'][0])\n"
   ]
  }
 ],
 "metadata": {
  "kernelspec": {
   "display_name": "Python 3",
   "language": "python",
   "name": "python3"
  },
  "language_info": {
   "name": "python",
   "version": "3.11.4"
  }
 },
 "nbformat": 4,
 "nbformat_minor": 2
}
