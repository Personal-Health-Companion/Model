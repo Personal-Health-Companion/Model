{
 "cells": [
  {
   "cell_type": "code",
   "execution_count": 3,
   "metadata": {},
   "outputs": [
    {
     "name": "stdout",
     "output_type": "stream",
     "text": [
      "Collecting bardapi\n",
      "  Using cached bardapi-0.1.38-py3-none-any.whl.metadata (21 kB)\n",
      "Collecting httpx>=0.20.0 (from httpx[http2]>=0.20.0->bardapi)\n",
      "  Using cached httpx-0.25.1-py3-none-any.whl.metadata (7.1 kB)\n",
      "Collecting requests (from bardapi)\n",
      "  Downloading requests-2.31.0-py3-none-any.whl.metadata (4.6 kB)\n",
      "Collecting deep-translator (from bardapi)\n",
      "  Using cached deep_translator-1.11.4-py3-none-any.whl.metadata (30 kB)\n",
      "Collecting colorama (from bardapi)\n",
      "  Using cached colorama-0.4.6-py2.py3-none-any.whl (25 kB)\n",
      "Collecting google-cloud-translate (from bardapi)\n",
      "  Using cached google_cloud_translate-3.12.1-py2.py3-none-any.whl.metadata (5.2 kB)\n",
      "Collecting browser-cookie3 (from bardapi)\n",
      "  Using cached browser_cookie3-0.19.1-py3-none-any.whl.metadata (632 bytes)\n",
      "Collecting langdetect (from bardapi)\n",
      "  Using cached langdetect-1.0.9.tar.gz (981 kB)\n",
      "  Installing build dependencies ... \u001b[?25ldone\n",
      "\u001b[?25h  Getting requirements to build wheel ... \u001b[?25ldone\n",
      "\u001b[?25h  Preparing metadata (pyproject.toml) ... \u001b[?25ldone\n",
      "\u001b[?25hCollecting anyio (from httpx>=0.20.0->httpx[http2]>=0.20.0->bardapi)\n",
      "  Using cached anyio-4.0.0-py3-none-any.whl.metadata (4.5 kB)\n",
      "Collecting certifi (from httpx>=0.20.0->httpx[http2]>=0.20.0->bardapi)\n",
      "  Downloading certifi-2023.7.22-py3-none-any.whl.metadata (2.2 kB)\n",
      "Collecting httpcore (from httpx>=0.20.0->httpx[http2]>=0.20.0->bardapi)\n",
      "  Using cached httpcore-1.0.2-py3-none-any.whl.metadata (20 kB)\n",
      "Collecting idna (from httpx>=0.20.0->httpx[http2]>=0.20.0->bardapi)\n",
      "  Downloading idna-3.4-py3-none-any.whl (61 kB)\n",
      "\u001b[2K     \u001b[90m━━━━━━━━━━━━━━━━━━━━━━━━━━━━━━━━━━━━━━━━\u001b[0m \u001b[32m61.5/61.5 kB\u001b[0m \u001b[31m2.6 MB/s\u001b[0m eta \u001b[36m0:00:00\u001b[0m\n",
      "\u001b[?25hCollecting sniffio (from httpx>=0.20.0->httpx[http2]>=0.20.0->bardapi)\n",
      "  Using cached sniffio-1.3.0-py3-none-any.whl (10 kB)\n",
      "Collecting h2<5,>=3 (from httpx[http2]>=0.20.0->bardapi)\n",
      "  Using cached h2-4.1.0-py3-none-any.whl (57 kB)\n",
      "Collecting lz4 (from browser-cookie3->bardapi)\n",
      "  Downloading lz4-4.3.2-cp311-cp311-macosx_11_0_arm64.whl (212 kB)\n",
      "\u001b[2K     \u001b[90m━━━━━━━━━━━━━━━━━━━━━━━━━━━━━━━━━━━━━━\u001b[0m \u001b[32m212.3/212.3 kB\u001b[0m \u001b[31m10.8 MB/s\u001b[0m eta \u001b[36m0:00:00\u001b[0m\n",
      "\u001b[?25hCollecting pycryptodomex (from browser-cookie3->bardapi)\n",
      "  Downloading pycryptodomex-3.19.0-cp35-abi3-macosx_10_9_universal2.whl.metadata (3.4 kB)\n",
      "Collecting beautifulsoup4<5.0.0,>=4.9.1 (from deep-translator->bardapi)\n",
      "  Using cached beautifulsoup4-4.12.2-py3-none-any.whl (142 kB)\n",
      "Collecting charset-normalizer<4,>=2 (from requests->bardapi)\n",
      "  Downloading charset_normalizer-3.3.2-cp311-cp311-macosx_11_0_arm64.whl.metadata (33 kB)\n",
      "Collecting urllib3<3,>=1.21.1 (from requests->bardapi)\n",
      "  Downloading urllib3-2.1.0-py3-none-any.whl.metadata (6.4 kB)\n",
      "Collecting google-api-core!=2.0.*,!=2.1.*,!=2.10.*,!=2.2.*,!=2.3.*,!=2.4.*,!=2.5.*,!=2.6.*,!=2.7.*,!=2.8.*,!=2.9.*,<3.0.0dev,>=1.34.0 (from google-api-core[grpc]!=2.0.*,!=2.1.*,!=2.10.*,!=2.2.*,!=2.3.*,!=2.4.*,!=2.5.*,!=2.6.*,!=2.7.*,!=2.8.*,!=2.9.*,<3.0.0dev,>=1.34.0->google-cloud-translate->bardapi)\n",
      "  Using cached google_api_core-2.14.0-py3-none-any.whl.metadata (2.6 kB)\n",
      "Collecting google-cloud-core<3.0.0dev,>=1.4.4 (from google-cloud-translate->bardapi)\n",
      "  Using cached google_cloud_core-2.3.3-py2.py3-none-any.whl.metadata (2.5 kB)\n",
      "Collecting proto-plus<2.0.0dev,>=1.22.0 (from google-cloud-translate->bardapi)\n",
      "  Using cached proto_plus-1.22.3-py3-none-any.whl.metadata (2.2 kB)\n",
      "Collecting protobuf!=3.20.0,!=3.20.1,!=4.21.0,!=4.21.1,!=4.21.2,!=4.21.3,!=4.21.4,!=4.21.5,<5.0.0dev,>=3.19.5 (from google-cloud-translate->bardapi)\n",
      "  Using cached protobuf-4.25.0-cp37-abi3-macosx_10_9_universal2.whl.metadata (541 bytes)\n",
      "Requirement already satisfied: six in /Users/kim-euijin/Library/Python/3.11/lib/python/site-packages (from langdetect->bardapi) (1.16.0)\n",
      "Collecting soupsieve>1.2 (from beautifulsoup4<5.0.0,>=4.9.1->deep-translator->bardapi)\n",
      "  Using cached soupsieve-2.5-py3-none-any.whl.metadata (4.7 kB)\n",
      "Collecting googleapis-common-protos<2.0.dev0,>=1.56.2 (from google-api-core!=2.0.*,!=2.1.*,!=2.10.*,!=2.2.*,!=2.3.*,!=2.4.*,!=2.5.*,!=2.6.*,!=2.7.*,!=2.8.*,!=2.9.*,<3.0.0dev,>=1.34.0->google-api-core[grpc]!=2.0.*,!=2.1.*,!=2.10.*,!=2.2.*,!=2.3.*,!=2.4.*,!=2.5.*,!=2.6.*,!=2.7.*,!=2.8.*,!=2.9.*,<3.0.0dev,>=1.34.0->google-cloud-translate->bardapi)\n",
      "  Using cached googleapis_common_protos-1.61.0-py2.py3-none-any.whl.metadata (1.5 kB)\n",
      "Collecting google-auth<3.0.dev0,>=2.14.1 (from google-api-core!=2.0.*,!=2.1.*,!=2.10.*,!=2.2.*,!=2.3.*,!=2.4.*,!=2.5.*,!=2.6.*,!=2.7.*,!=2.8.*,!=2.9.*,<3.0.0dev,>=1.34.0->google-api-core[grpc]!=2.0.*,!=2.1.*,!=2.10.*,!=2.2.*,!=2.3.*,!=2.4.*,!=2.5.*,!=2.6.*,!=2.7.*,!=2.8.*,!=2.9.*,<3.0.0dev,>=1.34.0->google-cloud-translate->bardapi)\n",
      "  Using cached google_auth-2.23.4-py2.py3-none-any.whl.metadata (4.7 kB)\n",
      "Collecting grpcio<2.0dev,>=1.33.2 (from google-api-core[grpc]!=2.0.*,!=2.1.*,!=2.10.*,!=2.2.*,!=2.3.*,!=2.4.*,!=2.5.*,!=2.6.*,!=2.7.*,!=2.8.*,!=2.9.*,<3.0.0dev,>=1.34.0->google-cloud-translate->bardapi)\n",
      "  Downloading grpcio-1.59.2-cp311-cp311-macosx_10_10_universal2.whl.metadata (4.0 kB)\n",
      "Collecting grpcio-status<2.0.dev0,>=1.33.2 (from google-api-core[grpc]!=2.0.*,!=2.1.*,!=2.10.*,!=2.2.*,!=2.3.*,!=2.4.*,!=2.5.*,!=2.6.*,!=2.7.*,!=2.8.*,!=2.9.*,<3.0.0dev,>=1.34.0->google-cloud-translate->bardapi)\n",
      "  Using cached grpcio_status-1.59.2-py3-none-any.whl.metadata (1.3 kB)\n",
      "Collecting hyperframe<7,>=6.0 (from h2<5,>=3->httpx[http2]>=0.20.0->bardapi)\n",
      "  Using cached hyperframe-6.0.1-py3-none-any.whl (12 kB)\n",
      "Collecting hpack<5,>=4.0 (from h2<5,>=3->httpx[http2]>=0.20.0->bardapi)\n",
      "  Using cached hpack-4.0.0-py3-none-any.whl (32 kB)\n",
      "Collecting h11<0.15,>=0.13 (from httpcore->httpx>=0.20.0->httpx[http2]>=0.20.0->bardapi)\n",
      "  Using cached h11-0.14.0-py3-none-any.whl (58 kB)\n",
      "Collecting cachetools<6.0,>=2.0.0 (from google-auth<3.0.dev0,>=2.14.1->google-api-core!=2.0.*,!=2.1.*,!=2.10.*,!=2.2.*,!=2.3.*,!=2.4.*,!=2.5.*,!=2.6.*,!=2.7.*,!=2.8.*,!=2.9.*,<3.0.0dev,>=1.34.0->google-api-core[grpc]!=2.0.*,!=2.1.*,!=2.10.*,!=2.2.*,!=2.3.*,!=2.4.*,!=2.5.*,!=2.6.*,!=2.7.*,!=2.8.*,!=2.9.*,<3.0.0dev,>=1.34.0->google-cloud-translate->bardapi)\n",
      "  Using cached cachetools-5.3.2-py3-none-any.whl.metadata (5.2 kB)\n",
      "Collecting pyasn1-modules>=0.2.1 (from google-auth<3.0.dev0,>=2.14.1->google-api-core!=2.0.*,!=2.1.*,!=2.10.*,!=2.2.*,!=2.3.*,!=2.4.*,!=2.5.*,!=2.6.*,!=2.7.*,!=2.8.*,!=2.9.*,<3.0.0dev,>=1.34.0->google-api-core[grpc]!=2.0.*,!=2.1.*,!=2.10.*,!=2.2.*,!=2.3.*,!=2.4.*,!=2.5.*,!=2.6.*,!=2.7.*,!=2.8.*,!=2.9.*,<3.0.0dev,>=1.34.0->google-cloud-translate->bardapi)\n",
      "  Using cached pyasn1_modules-0.3.0-py2.py3-none-any.whl (181 kB)\n",
      "Collecting rsa<5,>=3.1.4 (from google-auth<3.0.dev0,>=2.14.1->google-api-core!=2.0.*,!=2.1.*,!=2.10.*,!=2.2.*,!=2.3.*,!=2.4.*,!=2.5.*,!=2.6.*,!=2.7.*,!=2.8.*,!=2.9.*,<3.0.0dev,>=1.34.0->google-api-core[grpc]!=2.0.*,!=2.1.*,!=2.10.*,!=2.2.*,!=2.3.*,!=2.4.*,!=2.5.*,!=2.6.*,!=2.7.*,!=2.8.*,!=2.9.*,<3.0.0dev,>=1.34.0->google-cloud-translate->bardapi)\n",
      "  Using cached rsa-4.9-py3-none-any.whl (34 kB)\n",
      "Collecting pyasn1<0.6.0,>=0.4.6 (from pyasn1-modules>=0.2.1->google-auth<3.0.dev0,>=2.14.1->google-api-core!=2.0.*,!=2.1.*,!=2.10.*,!=2.2.*,!=2.3.*,!=2.4.*,!=2.5.*,!=2.6.*,!=2.7.*,!=2.8.*,!=2.9.*,<3.0.0dev,>=1.34.0->google-api-core[grpc]!=2.0.*,!=2.1.*,!=2.10.*,!=2.2.*,!=2.3.*,!=2.4.*,!=2.5.*,!=2.6.*,!=2.7.*,!=2.8.*,!=2.9.*,<3.0.0dev,>=1.34.0->google-cloud-translate->bardapi)\n",
      "  Using cached pyasn1-0.5.0-py2.py3-none-any.whl (83 kB)\n",
      "Using cached bardapi-0.1.38-py3-none-any.whl (39 kB)\n",
      "Using cached httpx-0.25.1-py3-none-any.whl (75 kB)\n",
      "Using cached browser_cookie3-0.19.1-py3-none-any.whl (14 kB)\n",
      "Using cached deep_translator-1.11.4-py3-none-any.whl (42 kB)\n",
      "Downloading requests-2.31.0-py3-none-any.whl (62 kB)\n",
      "\u001b[2K   \u001b[90m━━━━━━━━━━━━━━━━━━━━━━━━━━━━━━━━━━━━━━━━\u001b[0m \u001b[32m62.6/62.6 kB\u001b[0m \u001b[31m9.2 MB/s\u001b[0m eta \u001b[36m0:00:00\u001b[0m\n",
      "\u001b[?25hUsing cached google_cloud_translate-3.12.1-py2.py3-none-any.whl (128 kB)\n",
      "Downloading certifi-2023.7.22-py3-none-any.whl (158 kB)\n",
      "\u001b[2K   \u001b[90m━━━━━━━━━━━━━━━━━━━━━━━━━━━━━━━━━━━━━━━━\u001b[0m \u001b[32m158.3/158.3 kB\u001b[0m \u001b[31m6.7 MB/s\u001b[0m eta \u001b[36m0:00:00\u001b[0m\n",
      "\u001b[?25hDownloading charset_normalizer-3.3.2-cp311-cp311-macosx_11_0_arm64.whl (118 kB)\n",
      "\u001b[2K   \u001b[90m━━━━━━━━━━━━━━━━━━━━━━━━━━━━━━━━━━━━━━━━\u001b[0m \u001b[32m119.0/119.0 kB\u001b[0m \u001b[31m8.4 MB/s\u001b[0m eta \u001b[36m0:00:00\u001b[0m\n",
      "\u001b[?25hUsing cached google_api_core-2.14.0-py3-none-any.whl (122 kB)\n",
      "Using cached google_cloud_core-2.3.3-py2.py3-none-any.whl (29 kB)\n",
      "Using cached proto_plus-1.22.3-py3-none-any.whl (48 kB)\n",
      "Using cached protobuf-4.25.0-cp37-abi3-macosx_10_9_universal2.whl (393 kB)\n",
      "Downloading urllib3-2.1.0-py3-none-any.whl (104 kB)\n",
      "\u001b[2K   \u001b[90m━━━━━━━━━━━━━━━━━━━━━━━━━━━━━━━━━━━━━━━━\u001b[0m \u001b[32m104.6/104.6 kB\u001b[0m \u001b[31m11.3 MB/s\u001b[0m eta \u001b[36m0:00:00\u001b[0m\n",
      "\u001b[?25hUsing cached anyio-4.0.0-py3-none-any.whl (83 kB)\n",
      "Using cached httpcore-1.0.2-py3-none-any.whl (76 kB)\n",
      "Downloading pycryptodomex-3.19.0-cp35-abi3-macosx_10_9_universal2.whl (2.4 MB)\n",
      "\u001b[2K   \u001b[90m━━━━━━━━━━━━━━━━━━━━━━━━━━━━━━━━━━━━━━━━\u001b[0m \u001b[32m2.4/2.4 MB\u001b[0m \u001b[31m5.9 MB/s\u001b[0m eta \u001b[36m0:00:00\u001b[0ma \u001b[36m0:00:01\u001b[0mm\n",
      "\u001b[?25hUsing cached google_auth-2.23.4-py2.py3-none-any.whl (183 kB)\n",
      "Using cached googleapis_common_protos-1.61.0-py2.py3-none-any.whl (230 kB)\n",
      "Downloading grpcio-1.59.2-cp311-cp311-macosx_10_10_universal2.whl (9.5 MB)\n",
      "\u001b[2K   \u001b[90m━━━━━━━━━━━━━━━━━━━━━━━━━━━━━━━━━━━━━━━━\u001b[0m \u001b[32m9.5/9.5 MB\u001b[0m \u001b[31m5.2 MB/s\u001b[0m eta \u001b[36m0:00:00\u001b[0m00:01\u001b[0m00:01\u001b[0m\n",
      "\u001b[?25hUsing cached grpcio_status-1.59.2-py3-none-any.whl (14 kB)\n",
      "Using cached soupsieve-2.5-py3-none-any.whl (36 kB)\n",
      "Using cached cachetools-5.3.2-py3-none-any.whl (9.3 kB)\n",
      "Building wheels for collected packages: langdetect\n",
      "  Building wheel for langdetect (pyproject.toml) ... \u001b[?25ldone\n",
      "\u001b[?25h  Created wheel for langdetect: filename=langdetect-1.0.9-py3-none-any.whl size=993224 sha256=a24bbc034495f1c356dcc05f0feeb779f87751d5d07cf7bfd0bfc15b06a3b856\n",
      "  Stored in directory: /Users/kim-euijin/Library/Caches/pip/wheels/0a/f2/b2/e5ca405801e05eb7c8ed5b3b4bcf1fcabcd6272c167640072e\n",
      "Successfully built langdetect\n",
      "Installing collected packages: urllib3, soupsieve, sniffio, pycryptodomex, pyasn1, protobuf, lz4, langdetect, idna, hyperframe, hpack, h11, grpcio, colorama, charset-normalizer, certifi, cachetools, rsa, requests, pyasn1-modules, proto-plus, httpcore, h2, googleapis-common-protos, browser-cookie3, beautifulsoup4, anyio, httpx, grpcio-status, google-auth, deep-translator, google-api-core, google-cloud-core, google-cloud-translate, bardapi\n",
      "Successfully installed anyio-4.0.0 bardapi-0.1.38 beautifulsoup4-4.12.2 browser-cookie3-0.19.1 cachetools-5.3.2 certifi-2023.7.22 charset-normalizer-3.3.2 colorama-0.4.6 deep-translator-1.11.4 google-api-core-2.14.0 google-auth-2.23.4 google-cloud-core-2.3.3 google-cloud-translate-3.12.1 googleapis-common-protos-1.61.0 grpcio-1.59.2 grpcio-status-1.59.2 h11-0.14.0 h2-4.1.0 hpack-4.0.0 httpcore-1.0.2 httpx-0.25.1 hyperframe-6.0.1 idna-3.4 langdetect-1.0.9 lz4-4.3.2 proto-plus-1.22.3 protobuf-4.25.0 pyasn1-0.5.0 pyasn1-modules-0.3.0 pycryptodomex-3.19.0 requests-2.31.0 rsa-4.9 sniffio-1.3.0 soupsieve-2.5 urllib3-2.1.0\n",
      "\n",
      "\u001b[1m[\u001b[0m\u001b[34;49mnotice\u001b[0m\u001b[1;39;49m]\u001b[0m\u001b[39;49m A new release of pip is available: \u001b[0m\u001b[31;49m23.3\u001b[0m\u001b[39;49m -> \u001b[0m\u001b[32;49m23.3.1\u001b[0m\n",
      "\u001b[1m[\u001b[0m\u001b[34;49mnotice\u001b[0m\u001b[1;39;49m]\u001b[0m\u001b[39;49m To update, run: \u001b[0m\u001b[32;49mpip3.11 install --upgrade pip\u001b[0m\n",
      "Note: you may need to restart the kernel to use updated packages.\n"
     ]
    }
   ],
   "source": [
    "%pip install bardapi"
   ]
  },
  {
   "cell_type": "code",
   "execution_count": 2,
   "metadata": {},
   "outputs": [],
   "source": [
    "import bardapi\n",
    "import os나도"
   ]
  },
  {
   "cell_type": "code",
   "execution_count": 29,
   "metadata": {},
   "outputs": [],
   "source": [
    "os.environ['_BARD_API_KEY'] = \"dQjAZH0t2bkptGwoLtm08-TzAaEhtgqgA8EkSoC6AAREgL_NI6Zte-deTwQ0rnyYlI7G3A.\""
   ]
  },
  {
   "cell_type": "code",
   "execution_count": 34,
   "metadata": {},
   "outputs": [],
   "source": [
    "age = \"40대\"\n",
    "Disease1 = \"당뇨\"\n",
    "Disease2 = \"고혈압\"\n",
    "Disease3 = \"골다공증\"\n",
    "Hobby1 = \"독서\"\n",
    "Hobby2 = \"영화감상\"\n",
    "Hobby3 = \"노래\"\n",
    "Time = \"15\"\n",
    "Medicine = \"감기약\"\n",
    "Surgery = \"맹장수술\"\n",
    "Location = \"서울시 동작구\""
   ]
  },
  {
   "cell_type": "code",
   "execution_count": 39,
   "metadata": {},
   "outputs": [],
   "source": [
    "# 질문 작성\n",
    "User_input_String = \"정강이뼈가 부러진거 같은데 어떻게 해야할까\"\n",
    "input_String = \"내가\" + age + \"이고 \" + Disease1 + \",\" + Disease2 + \",\" + Disease3 + \"을 앓았던 이력이 있어\" + \"그리고\" + Hobby1 + \",\" + Hobby2 + \",\" + Hobby3 + \"를 취미로 하고\" + User_input_String + \"참고로 내가 사는 시역은\" + Location + \"이고 \" + Medicine + \"을 복용중이고\" + Surgery + \"경력이 있어\""
   ]
  },
  {
   "cell_type": "code",
   "execution_count": 43,
   "metadata": {},
   "outputs": [
    {
     "name": "stdout",
     "output_type": "stream",
     "text": [
      "{'content': '40대 당뇨, 고혈압, 골다공증을 앓았던 이력이 있고 독서, 영화 감상, 노래를 취미로 하는 분이 정강이뼈가 부러진 것 같다면, 우선 가까운 병원 응급실로 가셔서 정밀 검사를 받아보시는 것이 좋습니다. 정강이뼈는 발목과 무릎을 연결하는 중요한 뼈이기 때문에, 부러지면 보행이나 운동에 큰 지장을 줄 수 있습니다.\\n\\n검사 결과 부러진 것이 확인되면, 수술이 필요한지 아니면 보존적 치료로 충분한지 의사와 상담하셔야 합니다. 수술이 필요한 경우에는 부러진 뼈를 맞추고 고정하는 수술을 받게 됩니다. 수술 후에는 재활 치료를 통해 뼈가 잘 붙고 기능을 회복하도록 해야 합니다.\\n\\n감기약을 복용 중이라면, 의사와 상담하여 부작용 여부를 확인하고, 부작용이 우려된다면 다른 약으로 바꾸시는 것이 좋습니다. 맹장 수술 경력이 있다면, 정강이뼈 부러짐과 관련하여 맹장 수술 부위의 통증이나 부종, 혈종 등이 발생하지는 않는지 관찰하시기 바랍니다.\\n\\n부러진 정강이뼈의 치료 기간은 부러진 정도에 따라 달라집니다. 일반적으로 6주에서 8주 정도 소요되며, 이 기간 동안은 보조기나 깁스를 착용해야 합니다. 보조기나 깁스를 착용하는 동안에는 과도한 활동을 피하고, 의사의 지시에 따라 재활 치료를 받아야 합니다.\\n\\n정강이뼈 부러짐은 충분한 휴식과 치료를 통해 충분히 회복될 수 있습니다. 다만, 당뇨, 고혈압, 골다공증 등의 질환이 있는 경우라면, 치료 기간이 더 길어질 수 있고, 재발의 위험도 높아질 수 있으므로, 정기적으로 의사의 진료를 받아주시기 바랍니다.\\n\\n다음은 정강이뼈 부러짐 후 주의해야 할 사항입니다.\\n\\n* 과도한 활동을 피하고, 의사의 지시에 따라 보조기나 깁스를 착용하십시오.\\n* 깁스를 착용한 상태에서 혈액순환을 위해 발가락을 자주 움직이십시오.\\n* 붓기나 통증이 심하면, 얼음찜질이나 진통제를 사용하시기 바랍니다.\\n* 정기적으로 의사의 진료를 받아, 치료 진행 상황을 확인하십시오.\\n\\n건강을 회복하시고, 즐거운 일들만 가득하시길 바랍니다.', 'conversation_id': 'c_2dd7206ae8140ee8', 'response_id': 'r_6af976f101cd00d9', 'factuality_queries': None, 'text_query': '', 'choices': [{'id': 'rc_40a024aa5496bc3e', 'content': ['40대 당뇨, 고혈압, 골다공증을 앓았던 이력이 있고 독서, 영화 감상, 노래를 취미로 하는 분이 정강이뼈가 부러진 것 같다면, 우선 가까운 병원 응급실로 가셔서 정밀 검사를 받아보시는 것이 좋습니다. 정강이뼈는 발목과 무릎을 연결하는 중요한 뼈이기 때문에, 부러지면 보행이나 운동에 큰 지장을 줄 수 있습니다.\\n\\n검사 결과 부러진 것이 확인되면, 수술이 필요한지 아니면 보존적 치료로 충분한지 의사와 상담하셔야 합니다. 수술이 필요한 경우에는 부러진 뼈를 맞추고 고정하는 수술을 받게 됩니다. 수술 후에는 재활 치료를 통해 뼈가 잘 붙고 기능을 회복하도록 해야 합니다.\\n\\n감기약을 복용 중이라면, 의사와 상담하여 부작용 여부를 확인하고, 부작용이 우려된다면 다른 약으로 바꾸시는 것이 좋습니다. 맹장 수술 경력이 있다면, 정강이뼈 부러짐과 관련하여 맹장 수술 부위의 통증이나 부종, 혈종 등이 발생하지는 않는지 관찰하시기 바랍니다.\\n\\n부러진 정강이뼈의 치료 기간은 부러진 정도에 따라 달라집니다. 일반적으로 6주에서 8주 정도 소요되며, 이 기간 동안은 보조기나 깁스를 착용해야 합니다. 보조기나 깁스를 착용하는 동안에는 과도한 활동을 피하고, 의사의 지시에 따라 재활 치료를 받아야 합니다.\\n\\n정강이뼈 부러짐은 충분한 휴식과 치료를 통해 충분히 회복될 수 있습니다. 다만, 당뇨, 고혈압, 골다공증 등의 질환이 있는 경우라면, 치료 기간이 더 길어질 수 있고, 재발의 위험도 높아질 수 있으므로, 정기적으로 의사의 진료를 받아주시기 바랍니다.\\n\\n다음은 정강이뼈 부러짐 후 주의해야 할 사항입니다.\\n\\n* 과도한 활동을 피하고, 의사의 지시에 따라 보조기나 깁스를 착용하십시오.\\n* 깁스를 착용한 상태에서 혈액순환을 위해 발가락을 자주 움직이십시오.\\n* 붓기나 통증이 심하면, 얼음찜질이나 진통제를 사용하시기 바랍니다.\\n* 정기적으로 의사의 진료를 받아, 치료 진행 상황을 확인하십시오.\\n\\n건강을 회복하시고, 즐거운 일들만 가득하시길 바랍니다.']}, {'id': 'rc_1f1a14e19e13f519', 'content': ['40대이고 당뇨, 고혈압, 골다공증을 앓았던 이력이 있으며 독서, 영화 감상, 노래를 취미로 하는 분께서 정강이뼈가 부러진 것 같다고 하시니 우선 병원에 가셔서 정확한 진단을 받으시는 것이 좋습니다. 정강이뼈가 부러졌다면 수술이 필요할 수도 있습니다.\\n\\n서울시 동작구에 있는 병원 중에서 정강이뼈 골절에 대한 경험이 많은 병원을 찾아가시거나, 혹시 기존에 정강이뼈 골절에 대해 진료를 받으셨던 병원이 있으시다면 그 병원에 가시는 것도 좋습니다.\\n\\n감기약을 복용 중이시라면 병원에 가시기 전에 감기약 복용을 중단하시는 것이 좋습니다. 감기약 중에는 혈액 응고를 방해하는 성분이 포함되어 있을 수 있기 때문입니다.\\n\\n맹장수술 경력이 있으시다면 병원에 가시기 전에 맹장수술 경력을 의사 선생님께 말씀하시는 것이 좋습니다. 맹장수술을 한 경우, 정강이뼈 골절 수술 후 회복이 더디거나 합병증이 발생할 위험이 높아질 수 있기 때문입니다.\\n\\n병원에 가셔서 진단을 받으신 후, 의사 선생님의 지시에 따라 치료를 받으시기 바랍니다.\\n\\n다음은 정강이뼈 골절에 대한 일반적인 치료 방법입니다.\\n\\n* **비수술 치료**\\n\\n정강이뼈 골절이 심하지 않은 경우, 비수술 치료를 통해 치료할 수 있습니다. 비수술 치료는 다음과 같습니다.\\n    * **깁스**\\n        깁스를 사용하여 정강이뼈를 고정합니다.\\n    * **석고**\\n        석고를 사용하여 정강이뼈를 고정합니다.\\n    * **기계적 고정 장치**\\n        기계적 고정 장치를 사용하여 정강이뼈를 고정합니다.\\n\\n* **수술 치료**\\n\\n정강이뼈 골절이 심한 경우, 수술 치료를 통해 치료해야 합니다. 수술 치료는 다음과 같습니다.\\n    * **핀 고정술**\\n        핀을 사용하여 정강이뼈를 고정합니다.\\n    * **판 고정술**\\n        판을 사용하여 정강이뼈를 고정합니다.\\n    * **나사 고정술**\\n        나사를 사용하여 정강이뼈를 고정합니다.\\n\\n정강이뼈 골절 수술 후에는 다음과 같은 사항을 주의해야 합니다.\\n\\n* **깁스나 석고를 풀 때까지 무리한 활동을 하지 마세요.**\\n* **지시에 따라 꾸준히 재활 운동을 하세요.**\\n* **통증이나 부종이 심하면 의사 선생님께 말씀하세요.**\\n\\n정강이뼈 골절은 완전히 회복되기까지 약 6~8주 정도 걸립니다. 이 기간 동안 꾸준한 치료와 재활 운동을 통해 빠른 회복을 기대하시기 바랍니다.']}, {'id': 'rc_d7db5ab266af2a1a', 'content': ['40대이고 당뇨, 고혈압, 골다공증을 앓았던 이력이 있으며 독서, 영화 감상, 노래를 취미로 하고 정강이뼈가 부러진 것 같은데, 동작구에 거주하며 감기약을 복용 중이고 맹장 수술 경력이 있는 경우, 다음과 같은 조치를 취하는 것이 좋습니다.\\n\\n1. 가장 먼저 정강이뼈가 부러졌는지 확인해야 합니다. 정강이뼈가 부러졌다면 움직이지 않도록 고정하고, 가능한 한 빨리 병원에 가서 진료를 받아야 합니다.\\n2. 병원에서는 정강이뼈의 상태를 확인하고, 필요한 경우 깁스나 수술을 시행합니다.\\n3. 깁스를 하게 되면, 깁스 부위의 혈액순환을 원활하게 하기 위해 깁스를 풀고 마사지를 해주어야 합니다.\\n4. 정강이뼈가 부러진 후에는 재활치료를 통해 정상적인 기능을 회복해야 합니다. 재활치료는 보통 6~12개월 정도 소요됩니다.\\n\\n당뇨, 고혈압, 골다공증 등의 만성질환이 있는 경우, 정강이뼈가 부러지면 합병증이 발생할 위험이 높아집니다. 따라서 정강이뼈가 부러졌다면, 평소에 복용하던 약을 계속 복용하면서, 정기적으로 의사의 진료를 받아야 합니다.\\n\\n감기약을 복용 중이라면, 감기약에 부작용이 있는지 확인해야 합니다. 감기약에 부작용이 있는 경우, 정강이뼈의 회복에 지장을 줄 수 있습니다.\\n\\n맹장 수술 경력이 있는 경우, 맹장 수술 부위의 통증이나 염증이 발생하지 않도록 주의해야 합니다.\\n\\n정강이뼈가 부러지면, 일상생활에 많은 불편을 초래할 수 있습니다. 따라서, 정강이뼈의 회복을 위해 적극적인 치료와 재활치료를 받는 것이 중요합니다.']}], 'links': [], 'images': [], 'program_lang': None, 'code': None, 'status_code': 200}\n"
     ]
    }
   ],
   "source": [
    "# 바드 대답\n",
    "response = bardapi.core.Bard().get_answer(input_String)\n",
    "print(response)"
   ]
  },
  {
   "cell_type": "code",
   "execution_count": 44,
   "metadata": {},
   "outputs": [
    {
     "name": "stdout",
     "output_type": "stream",
     "text": [
      " Choice 1:\n",
      " 40대 당뇨, 고혈압, 골다공증을 앓았던 이력이 있고 독서, 영화 감상, 노래를 취미로 하는 분이 정강이뼈가 부러진 것 같다면, 우선 가까운 병원 응급실로 가셔서 정밀 검사를 받아보시는 것이 좋습니다. 정강이뼈는 발목과 무릎을 연결하는 중요한 뼈이기 때문에, 부러지면 보행이나 운동에 큰 지장을 줄 수 있습니다.\n",
      "\n",
      "검사 결과 부러진 것이 확인되면, 수술이 필요한지 아니면 보존적 치료로 충분한지 의사와 상담하셔야 합니다. 수술이 필요한 경우에는 부러진 뼈를 맞추고 고정하는 수술을 받게 됩니다. 수술 후에는 재활 치료를 통해 뼈가 잘 붙고 기능을 회복하도록 해야 합니다.\n",
      "\n",
      "감기약을 복용 중이라면, 의사와 상담하여 부작용 여부를 확인하고, 부작용이 우려된다면 다른 약으로 바꾸시는 것이 좋습니다. 맹장 수술 경력이 있다면, 정강이뼈 부러짐과 관련하여 맹장 수술 부위의 통증이나 부종, 혈종 등이 발생하지는 않는지 관찰하시기 바랍니다.\n",
      "\n",
      "부러진 정강이뼈의 치료 기간은 부러진 정도에 따라 달라집니다. 일반적으로 6주에서 8주 정도 소요되며, 이 기간 동안은 보조기나 깁스를 착용해야 합니다. 보조기나 깁스를 착용하는 동안에는 과도한 활동을 피하고, 의사의 지시에 따라 재활 치료를 받아야 합니다.\n",
      "\n",
      "정강이뼈 부러짐은 충분한 휴식과 치료를 통해 충분히 회복될 수 있습니다. 다만, 당뇨, 고혈압, 골다공증 등의 질환이 있는 경우라면, 치료 기간이 더 길어질 수 있고, 재발의 위험도 높아질 수 있으므로, 정기적으로 의사의 진료를 받아주시기 바랍니다.\n",
      "\n",
      "다음은 정강이뼈 부러짐 후 주의해야 할 사항입니다.\n",
      "\n",
      "* 과도한 활동을 피하고, 의사의 지시에 따라 보조기나 깁스를 착용하십시오.\n",
      "* 깁스를 착용한 상태에서 혈액순환을 위해 발가락을 자주 움직이십시오.\n",
      "* 붓기나 통증이 심하면, 얼음찜질이나 진통제를 사용하시기 바랍니다.\n",
      "* 정기적으로 의사의 진료를 받아, 치료 진행 상황을 확인하십시오.\n",
      "\n",
      "건강을 회복하시고, 즐거운 일들만 가득하시길 바랍니다. \n",
      "\n",
      " Choice 2:\n",
      " 40대이고 당뇨, 고혈압, 골다공증을 앓았던 이력이 있으며 독서, 영화 감상, 노래를 취미로 하는 분께서 정강이뼈가 부러진 것 같다고 하시니 우선 병원에 가셔서 정확한 진단을 받으시는 것이 좋습니다. 정강이뼈가 부러졌다면 수술이 필요할 수도 있습니다.\n",
      "\n",
      "서울시 동작구에 있는 병원 중에서 정강이뼈 골절에 대한 경험이 많은 병원을 찾아가시거나, 혹시 기존에 정강이뼈 골절에 대해 진료를 받으셨던 병원이 있으시다면 그 병원에 가시는 것도 좋습니다.\n",
      "\n",
      "감기약을 복용 중이시라면 병원에 가시기 전에 감기약 복용을 중단하시는 것이 좋습니다. 감기약 중에는 혈액 응고를 방해하는 성분이 포함되어 있을 수 있기 때문입니다.\n",
      "\n",
      "맹장수술 경력이 있으시다면 병원에 가시기 전에 맹장수술 경력을 의사 선생님께 말씀하시는 것이 좋습니다. 맹장수술을 한 경우, 정강이뼈 골절 수술 후 회복이 더디거나 합병증이 발생할 위험이 높아질 수 있기 때문입니다.\n",
      "\n",
      "병원에 가셔서 진단을 받으신 후, 의사 선생님의 지시에 따라 치료를 받으시기 바랍니다.\n",
      "\n",
      "다음은 정강이뼈 골절에 대한 일반적인 치료 방법입니다.\n",
      "\n",
      "* **비수술 치료**\n",
      "\n",
      "정강이뼈 골절이 심하지 않은 경우, 비수술 치료를 통해 치료할 수 있습니다. 비수술 치료는 다음과 같습니다.\n",
      "    * **깁스**\n",
      "        깁스를 사용하여 정강이뼈를 고정합니다.\n",
      "    * **석고**\n",
      "        석고를 사용하여 정강이뼈를 고정합니다.\n",
      "    * **기계적 고정 장치**\n",
      "        기계적 고정 장치를 사용하여 정강이뼈를 고정합니다.\n",
      "\n",
      "* **수술 치료**\n",
      "\n",
      "정강이뼈 골절이 심한 경우, 수술 치료를 통해 치료해야 합니다. 수술 치료는 다음과 같습니다.\n",
      "    * **핀 고정술**\n",
      "        핀을 사용하여 정강이뼈를 고정합니다.\n",
      "    * **판 고정술**\n",
      "        판을 사용하여 정강이뼈를 고정합니다.\n",
      "    * **나사 고정술**\n",
      "        나사를 사용하여 정강이뼈를 고정합니다.\n",
      "\n",
      "정강이뼈 골절 수술 후에는 다음과 같은 사항을 주의해야 합니다.\n",
      "\n",
      "* **깁스나 석고를 풀 때까지 무리한 활동을 하지 마세요.**\n",
      "* **지시에 따라 꾸준히 재활 운동을 하세요.**\n",
      "* **통증이나 부종이 심하면 의사 선생님께 말씀하세요.**\n",
      "\n",
      "정강이뼈 골절은 완전히 회복되기까지 약 6~8주 정도 걸립니다. 이 기간 동안 꾸준한 치료와 재활 운동을 통해 빠른 회복을 기대하시기 바랍니다. \n",
      "\n",
      " Choice 3:\n",
      " 40대이고 당뇨, 고혈압, 골다공증을 앓았던 이력이 있으며 독서, 영화 감상, 노래를 취미로 하고 정강이뼈가 부러진 것 같은데, 동작구에 거주하며 감기약을 복용 중이고 맹장 수술 경력이 있는 경우, 다음과 같은 조치를 취하는 것이 좋습니다.\n",
      "\n",
      "1. 가장 먼저 정강이뼈가 부러졌는지 확인해야 합니다. 정강이뼈가 부러졌다면 움직이지 않도록 고정하고, 가능한 한 빨리 병원에 가서 진료를 받아야 합니다.\n",
      "2. 병원에서는 정강이뼈의 상태를 확인하고, 필요한 경우 깁스나 수술을 시행합니다.\n",
      "3. 깁스를 하게 되면, 깁스 부위의 혈액순환을 원활하게 하기 위해 깁스를 풀고 마사지를 해주어야 합니다.\n",
      "4. 정강이뼈가 부러진 후에는 재활치료를 통해 정상적인 기능을 회복해야 합니다. 재활치료는 보통 6~12개월 정도 소요됩니다.\n",
      "\n",
      "당뇨, 고혈압, 골다공증 등의 만성질환이 있는 경우, 정강이뼈가 부러지면 합병증이 발생할 위험이 높아집니다. 따라서 정강이뼈가 부러졌다면, 평소에 복용하던 약을 계속 복용하면서, 정기적으로 의사의 진료를 받아야 합니다.\n",
      "\n",
      "감기약을 복용 중이라면, 감기약에 부작용이 있는지 확인해야 합니다. 감기약에 부작용이 있는 경우, 정강이뼈의 회복에 지장을 줄 수 있습니다.\n",
      "\n",
      "맹장 수술 경력이 있는 경우, 맹장 수술 부위의 통증이나 염증이 발생하지 않도록 주의해야 합니다.\n",
      "\n",
      "정강이뼈가 부러지면, 일상생활에 많은 불편을 초래할 수 있습니다. 따라서, 정강이뼈의 회복을 위해 적극적인 치료와 재활치료를 받는 것이 중요합니다. \n",
      "\n"
     ]
    }
   ],
   "source": [
    "for i, choice in enumerate(response['choices']) :\n",
    "    print(f\" Choice {i + 1}:\\n\", choice['content'][0], \"\\n\")"
   ]
  },
  {
   "cell_type": "code",
   "execution_count": 45,
   "metadata": {},
   "outputs": [
    {
     "name": "stdout",
     "output_type": "stream",
     "text": [
      "40대이고 당뇨, 고혈압, 골다공증을 앓았던 이력이 있으며 독서, 영화 감상, 노래를 취미로 하고 정강이뼈가 부러진 것 같은데, 동작구에 거주하며 감기약을 복용 중이고 맹장 수술 경력이 있는 경우, 다음과 같은 조치를 취하는 것이 좋습니다.\n",
      "\n",
      "1. 가장 먼저 정강이뼈가 부러졌는지 확인해야 합니다. 정강이뼈가 부러졌다면 움직이지 않도록 고정하고, 가능한 한 빨리 병원에 가서 진료를 받아야 합니다.\n",
      "2. 병원에서는 정강이뼈의 상태를 확인하고, 필요한 경우 깁스나 수술을 시행합니다.\n",
      "3. 깁스를 하게 되면, 깁스 부위의 혈액순환을 원활하게 하기 위해 깁스를 풀고 마사지를 해주어야 합니다.\n",
      "4. 정강이뼈가 부러진 후에는 재활치료를 통해 정상적인 기능을 회복해야 합니다. 재활치료는 보통 6~12개월 정도 소요됩니다.\n",
      "\n",
      "당뇨, 고혈압, 골다공증 등의 만성질환이 있는 경우, 정강이뼈가 부러지면 합병증이 발생할 위험이 높아집니다. 따라서 정강이뼈가 부러졌다면, 평소에 복용하던 약을 계속 복용하면서, 정기적으로 의사의 진료를 받아야 합니다.\n",
      "\n",
      "감기약을 복용 중이라면, 감기약에 부작용이 있는지 확인해야 합니다. 감기약에 부작용이 있는 경우, 정강이뼈의 회복에 지장을 줄 수 있습니다.\n",
      "\n",
      "맹장 수술 경력이 있는 경우, 맹장 수술 부위의 통증이나 염증이 발생하지 않도록 주의해야 합니다.\n",
      "\n",
      "정강이뼈가 부러지면, 일상생활에 많은 불편을 초래할 수 있습니다. 따라서, 정강이뼈의 회복을 위해 적극적인 치료와 재활치료를 받는 것이 중요합니다.\n"
     ]
    }
   ],
   "source": [
    "print(choice['content'][0])"
   ]
  }
 ],
 "metadata": {
  "kernelspec": {
   "display_name": "Python 3",
   "language": "python",
   "name": "python3"
  },
  "language_info": {
   "codemirror_mode": {
    "name": "ipython",
    "version": 3
   },
   "file_extension": ".py",
   "mimetype": "text/x-python",
   "name": "python",
   "nbconvert_exporter": "python",
   "pygments_lexer": "ipython3",
   "version": "3.11.4"
  }
 },
 "nbformat": 4,
 "nbformat_minor": 2
}
